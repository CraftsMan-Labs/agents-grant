{
 "cells": [
  {
   "cell_type": "code",
   "execution_count": 1,
   "metadata": {},
   "outputs": [],
   "source": [
    "import nest_asyncio\n",
    "nest_asyncio.apply()"
   ]
  },
  {
   "cell_type": "code",
   "execution_count": 2,
   "metadata": {},
   "outputs": [
    {
     "name": "stderr",
     "output_type": "stream",
     "text": [
      "/opt/anaconda3/envs/rag/lib/python3.11/site-packages/pinecone/data/index.py:1: TqdmWarning: IProgress not found. Please update jupyter and ipywidgets. See https://ipywidgets.readthedocs.io/en/stable/user_install.html\n",
      "  from tqdm.autonotebook import tqdm\n"
     ]
    }
   ],
   "source": [
    "import os\n",
    "from dotenv import load_dotenv\n",
    "from llama_index.core import SimpleDirectoryReader, VectorStoreIndex\n",
    "from llama_index.vector_stores.pinecone import PineconeVectorStore\n",
    "from llama_index.core import StorageContext, load_index_from_storage\n",
    "from llama_index.embeddings.openai import OpenAIEmbedding\n",
    "from pinecone import Pinecone, ServerlessSpec\n",
    "from llama_index.core.node_parser import SimpleNodeParser\n",
    "import pinecone\n",
    "\n",
    "load_dotenv()\n",
    "\n",
    "os.environ[\"OPENAI_API_KEY\"] = os.getenv(\"OPENAI_API_KEY\")\n",
    "PINECONE_API_KEY = os.getenv(\"PINECONE_API_KEY\")\n",
    "\n",
    "pc = Pinecone(api_key=PINECONE_API_KEY)"
   ]
  },
  {
   "cell_type": "code",
   "execution_count": 3,
   "metadata": {},
   "outputs": [],
   "source": [
    "def find_subfolders(folder_path):\n",
    "    subfolders = []\n",
    "    for root, dirs, files in os.walk(folder_path):\n",
    "        for dir in dirs:\n",
    "            subfolders.append(os.path.join(root, dir))\n",
    "    return subfolders\n",
    "\n",
    "def ingest_pdfs(directory_path, index_name):\n",
    "    \"\"\"\n",
    "    Args:\n",
    "        directory_path (str): Path to directory containing PDFs\n",
    "        index_name (str): Name of the Pinecone index to create\n",
    "\n",
    "    Returns:\n",
    "        VectorStoreIndex: Index containing the documents from the directory\n",
    "    \"\"\"\n",
    "    list_of_available_indexes = pc.list_indexes().indexes\n",
    "    index_names = [index['name'] for index in list_of_available_indexes]\n",
    "    if index_name not in index_names:\n",
    "        pc.create_index(\n",
    "            name=index_name,\n",
    "            dimension=1536,  # OpenAI embedding dimension\n",
    "            metric=\"cosine\",\n",
    "            spec=ServerlessSpec(\n",
    "        cloud=\"aws\",\n",
    "        region=\"us-east-1\"\n",
    "    ) \n",
    "        )\n",
    "    \n",
    "    pinecone_index = pc.Index(index_name)\n",
    "    \n",
    "    # Set up vector store\n",
    "    vector_store = PineconeVectorStore(pinecone_index=pinecone_index)\n",
    "    storage_context = StorageContext.from_defaults(vector_store=vector_store)\n",
    "    \n",
    "    # Load documents\n",
    "    documents = SimpleDirectoryReader(directory_path,\n",
    "                                      required_exts=[\".txt\", \".pdf\", \".docx\"],\n",
    "                                      exclude=[\"*.pptx\",\"*.zip\"]).load_data()\n",
    "    \n",
    "    parser = SimpleNodeParser.from_defaults(chunk_overlap=50)\n",
    "    nodes = parser.get_nodes_from_documents(documents)\n",
    "\n",
    "    for node in nodes:\n",
    "        node.metadata[\"page_number\"] = node.metadata.get(\"page_label\", \"N/A\")\n",
    "    \n",
    "    embed_model = OpenAIEmbedding()\n",
    "    index = VectorStoreIndex(nodes, \n",
    "                             storage_context=storage_context, \n",
    "                             embed_model=embed_model)\n",
    "    \n",
    "    return index"
   ]
  },
  {
   "cell_type": "code",
   "execution_count": 4,
   "metadata": {},
   "outputs": [],
   "source": [
    "main_path = \"/Users/rishub/Desktop/projects/personal/agents-grant/sample_files/HS Grants\""
   ]
  },
  {
   "cell_type": "code",
   "execution_count": 5,
   "metadata": {},
   "outputs": [
    {
     "name": "stderr",
     "output_type": "stream",
     "text": [
      "Upserted vectors: 100%|██████████| 105/105 [00:10<00:00,  9.58it/s]\n"
     ]
    }
   ],
   "source": [
    "index_name = os.getenv(\"PINECONE_INDEX_NAME\")\n",
    "index = ingest_pdfs(main_path, index_name)"
   ]
  },
  {
   "cell_type": "code",
   "execution_count": null,
   "metadata": {},
   "outputs": [],
   "source": []
  }
 ],
 "metadata": {
  "kernelspec": {
   "display_name": "base",
   "language": "python",
   "name": "python3"
  },
  "language_info": {
   "codemirror_mode": {
    "name": "ipython",
    "version": 3
   },
   "file_extension": ".py",
   "mimetype": "text/x-python",
   "name": "python",
   "nbconvert_exporter": "python",
   "pygments_lexer": "ipython3",
   "version": "3.11.9"
  }
 },
 "nbformat": 4,
 "nbformat_minor": 2
}

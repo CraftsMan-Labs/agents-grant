{
 "cells": [
  {
   "cell_type": "code",
   "execution_count": 1,
   "metadata": {},
   "outputs": [
    {
     "name": "stderr",
     "output_type": "stream",
     "text": [
      "/opt/anaconda3/envs/rag/lib/python3.11/site-packages/pinecone/data/index.py:1: TqdmWarning: IProgress not found. Please update jupyter and ipywidgets. See https://ipywidgets.readthedocs.io/en/stable/user_install.html\n",
      "  from tqdm.autonotebook import tqdm\n"
     ]
    },
    {
     "data": {
      "text/plain": [
       "True"
      ]
     },
     "execution_count": 1,
     "metadata": {},
     "output_type": "execute_result"
    }
   ],
   "source": [
    "from src.retriever import retrieve_info\n",
    "from src.models import RetrivalQueryModel\n",
    "from dotenv import load_dotenv\n",
    "\n",
    "load_dotenv()"
   ]
  },
  {
   "cell_type": "code",
   "execution_count": 14,
   "metadata": {},
   "outputs": [],
   "source": [
    "query = \"Regional Development Grants\"\n",
    "results = retrieve_info(RetrivalQueryModel(Question=query))"
   ]
  },
  {
   "cell_type": "code",
   "execution_count": 18,
   "metadata": {},
   "outputs": [
    {
     "name": "stdout",
     "output_type": "stream",
     "text": [
      "Source: https://www.wd-deo.gc.ca/eng/19775.asp\n",
      "\n",
      "\n",
      "\n",
      "Regional Innovation Ecosystems in Western Canada\n",
      "\n",
      "\n",
      "\n",
      "Program\n",
      "\n",
      "The regional development agencies (RDAs) are delivering the RIE program across Canada, in their respective regions. Western Economic Diversification Canada (WD) is delivering RIE in western Canada.\n",
      "\n",
      "Through RIE, we are making targeted investments in not-for-profit organizations that support businesses in priority sectors to innovate, grow and compete globally. We are also fostering inclusive growth through supporting under-represented groups, mainly women, Indigenous peoples and young entrepreneurs, to more fully participate in the innovation economy.\n",
      "\n",
      "By providing funds to advance the development of regional innovation ecosystems, WD is delivering on the Budget 2018 commitment to grow the western Canadian economy. This will ensure Canada’s prosperity for decades to come.\n",
      "\n",
      "The RIE program stream builds on the federal government's Innovation and Skills Plan. This plan helps make Canada a world-leading centre for innovation that creates well-paying jobs and grows the middle class.\n",
      "\n",
      "\n",
      "\n",
      "Objectives of RIE\n",
      "\n",
      "Support and grow strategic clusters to leverage regional strengths and support businesses commercialize products, technologies and services, and to scale-up.\n",
      "\n",
      "Enhance the development and reach of business accelerators and incubators, and other organizations, which support entrepreneurs, start-ups and companies with high-growth potential.\n",
      "\n",
      "Support projects led by innovation-oriented organizations to increase and promote business productivity and global competiveness, and investment and talent attraction.\n",
      "\n",
      "Enhance the capacity of ecosystems to support underrepresented groups, including women, Indigenous peoples, and young entrepreneurs.\n",
      "\n",
      "\n",
      "\n",
      "Who can apply for RIE?\n",
      "\n",
      "RIE is open to not-for-profit organizations that support businesses, innovators and entrepreneurs, for start-up, growth, productivity, technology commercialization, technology adoption, export and investment attraction, including:\n",
      "\n",
      "Applicants must meet the following mandatory criteria:\n",
      "\n",
      "post-secondary educational institutions;\n",
      "\n",
      "Business Accelerator and Incubators;\n",
      "\n",
      "angel networks;\n",
      "\n",
      "Indigenous (First Nations, Inuit, Métis) organizations, including Indigenous-led not-for profit organizations and Indigenous-owned businesses;\n",
      "\n",
      "social enterprises;\n",
      "\n",
      "a group of eligible recipients such as an industry association or consortium; and\n",
      "\n",
      "a municipality and all other municipal-type organizations.\n",
      "\n",
      "All eligible applicants must be legal entities capable of entering into legally binding agreements\n",
      "\n",
      "What projects are funded through RIE?\n",
      "\n",
      "Activities that support a regional innovation ecosystem to respond to a specific challenge, opportunity, or market need or demand related to business scale-up and productivity, with emphasis on:\n",
      "\n",
      "Technology Commercialization - includes enhancing businesses innovation efforts; and establishing, expanding or modernizing a facility for providing specialized services for businesses, including platforms, innovation assets, tools and testbeds. The focus should be on late stage product development; for example, technology showcasing and demonstration.\n",
      "\n",
      "Business Scale-Up - includes entrepreneurship development and business support in market development, export, and investment attraction; and opportunity analyses such as identifying changes in global demand or prime contractors’ requirements for a given sector.\n",
      "\n",
      "Productivity Improvement – includes technology transfer including validation of needs, training and implementation of a new technology; and technological adoption for new industrial applications and/or entry into new markets.\n",
      "\n",
      "Ecosystem Capacity Building – includes development of strategic business alliances within a specific sector or cluster; research and analysis to identify barriers to scale-up and productivity enhancement within the sector/cluster; and development of a strategy to address these barriers.\n",
      "\n",
      "Business Acceleration and Incubation – includes supports for entrepreneurs to create and grow their start-up company, such as advice on how to create a business plan, determine a marketing strategy, hire employees, and other aspects of setting up a business. This support may also include services such as office space, expert mentors, or specialized equipment.\n",
      "\n",
      "RIE applications must support one of the following two priority areas:\n",
      "\n",
      "Cluster* Growth, within one of the following priority sectors:\n",
      "\n",
      "Clean Technology\n",
      "\n",
      "Clean Resources\n",
      "\n",
      "Life Sciences\n",
      "\n",
      "Value-added Agriculture\n",
      "\n",
      "Advanced Manufacturing\n",
      "\n",
      "Digital Technology\n",
      "\n",
      "Inclusiveness, with respect to one of the following under-represented groups:\n",
      "\n",
      "Indigenous Peoples\n",
      "\n",
      "Women\n",
      "\n",
      "Youth\n",
      "\n",
      "* Clusters are defined as a dense area of business activity containing a critical mass of large and small companies, post-secondary and research institutions, and other innovation actors. Their close geographic proximity can result in supply-chain benefits, encourage knowledge sharing and collaboration, drive competition and business specialization, and help to attract \"anchor\" companies from around the world.\n"
     ]
    }
   ],
   "source": [
    "print(results[0]['text'])"
   ]
  },
  {
   "cell_type": "code",
   "execution_count": null,
   "metadata": {},
   "outputs": [],
   "source": []
  }
 ],
 "metadata": {
  "kernelspec": {
   "display_name": "rag",
   "language": "python",
   "name": "python3"
  },
  "language_info": {
   "codemirror_mode": {
    "name": "ipython",
    "version": 3
   },
   "file_extension": ".py",
   "mimetype": "text/x-python",
   "name": "python",
   "nbconvert_exporter": "python",
   "pygments_lexer": "ipython3",
   "version": "3.11.9"
  }
 },
 "nbformat": 4,
 "nbformat_minor": 2
}

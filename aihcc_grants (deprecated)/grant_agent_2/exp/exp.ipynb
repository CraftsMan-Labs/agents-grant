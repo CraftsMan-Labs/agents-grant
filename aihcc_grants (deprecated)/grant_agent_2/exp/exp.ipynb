{
 "cells": [
  {
   "cell_type": "code",
   "execution_count": 1,
   "metadata": {},
   "outputs": [],
   "source": [
    "import nest_asyncio\n",
    "\n",
    "nest_asyncio.apply()"
   ]
  },
  {
   "cell_type": "code",
   "execution_count": 2,
   "metadata": {},
   "outputs": [],
   "source": [
    "from convert_to_md import Parser\n",
    "from utils import find_pdf_docx\n",
    "\n",
    "parser = Parser()"
   ]
  },
  {
   "cell_type": "code",
   "execution_count": 3,
   "metadata": {},
   "outputs": [],
   "source": [
    "md_file_path = \"/Users/rishub/Desktop/projects/personal/agents-grant/sample_files_md/HS Grants\"\n",
    "folder_path = \"/Users/rishub/Desktop/projects/personal/agents-grant/sample_files/HS Grants/\"\n",
    "\n",
    "result = find_pdf_docx(folder_path)"
   ]
  },
  {
   "cell_type": "code",
   "execution_count": 17,
   "metadata": {},
   "outputs": [
    {
     "name": "stdout",
     "output_type": "stream",
     "text": [
      "Started parsing the file under job_id cac11eca-4889-4af9-a84c-1b3a66d958ac\n",
      "Started parsing the file under job_id e9fbd9d4-9210-415a-b147-29f1dc7f91fb\n",
      "Started parsing the file under job_id cac11eca-3d9e-4a70-9d96-c3059ee813ef\n",
      "Started parsing the file under job_id 05d53865-4501-4754-a19a-532ee0c5dff6\n",
      "Started parsing the file under job_id d1b7c972-4441-483b-ad71-82ae85875de0\n",
      "Started parsing the file under job_id 7e8792d2-4901-432d-b80f-3355a78f0a95\n",
      "Started parsing the file under job_id 1b7f470d-156b-45cc-a7f1-d3f05765342b\n",
      "Started parsing the file under job_id 99011b1f-c1e1-4311-a3b0-f5f2b363421c\n",
      "Started parsing the file under job_id 66925a6a-3338-4746-a35d-d3ea259b7a67\n",
      "Started parsing the file under job_id cac11eca-0de9-48da-8f68-6b98a31bcfcc\n",
      "Started parsing the file under job_id 17381229-4ceb-4638-9bb9-a4c53e2023a8\n",
      "Started parsing the file under job_id fa4efd97-df5a-4047-a0dc-39d33d17cd8b\n",
      "Started parsing the file under job_id e876a967-54a8-4816-a02c-3ca6947e1d42\n",
      "Started parsing the file under job_id 974711a4-b9ba-40ce-80f6-d67fe1efac92\n",
      "Started parsing the file under job_id ab431eaa-dc05-44ac-bea0-9ecb73f41891\n",
      "Started parsing the file under job_id 5a423d36-ee09-495b-8375-2e6b83712804\n"
     ]
    }
   ],
   "source": [
    "for i in range(len(result)):\n",
    "    await parser.convert_and_save_to_md(result[i], md_file_path)"
   ]
  },
  {
   "cell_type": "code",
   "execution_count": null,
   "metadata": {},
   "outputs": [],
   "source": []
  }
 ],
 "metadata": {
  "kernelspec": {
   "display_name": "rag",
   "language": "python",
   "name": "python3"
  },
  "language_info": {
   "codemirror_mode": {
    "name": "ipython",
    "version": 3
   },
   "file_extension": ".py",
   "mimetype": "text/x-python",
   "name": "python",
   "nbconvert_exporter": "python",
   "pygments_lexer": "ipython3",
   "version": "3.11.9"
  }
 },
 "nbformat": 4,
 "nbformat_minor": 2
}
